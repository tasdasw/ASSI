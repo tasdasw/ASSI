{
 "cells": [
  {
   "cell_type": "code",
   "execution_count": 1,
   "id": "797519fc",
   "metadata": {},
   "outputs": [],
   "source": [
    "import nltk"
   ]
  },
  {
   "cell_type": "code",
   "execution_count": 4,
   "id": "dc62395f",
   "metadata": {},
   "outputs": [
    {
     "name": "stdout",
     "output_type": "stream",
     "text": [
      "Tokenization\n"
     ]
    },
    {
     "name": "stderr",
     "output_type": "stream",
     "text": [
      "[nltk_data] Downloading package punkt to\n",
      "[nltk_data]     C:\\Users\\abc\\AppData\\Roaming\\nltk_data...\n",
      "[nltk_data]   Package punkt is already up-to-date!\n"
     ]
    },
    {
     "data": {
      "text/plain": [
       "True"
      ]
     },
     "execution_count": 4,
     "metadata": {},
     "output_type": "execute_result"
    }
   ],
   "source": [
    "print(\"Tokenization\")\n",
    "nltk.download('punkt')\n"
   ]
  },
  {
   "cell_type": "code",
   "execution_count": 5,
   "id": "e1f85f13",
   "metadata": {},
   "outputs": [
    {
     "name": "stdout",
     "output_type": "stream",
     "text": [
      "['Natural', 'language', 'processing', '(', 'NLP', ')', 'is', 'a', 'branch', 'of', 'artificial', 'intelligence', '(', 'AI', ')', 'that', 'enables', 'computers', 'to', 'comprehend', ',', 'generate', ',', 'and', 'manipulate', 'human', 'language', '.', 'Natural', 'language', 'processing', 'has', 'the', 'ability', 'to', 'interrogate', 'the', 'data', 'with', 'natural', 'language', 'text', 'or', 'voice', '.']\n",
      "['Natural language processing (NLP) is a branch of artificial intelligence (AI) that enables computers to comprehend, generate, and manipulate human language.', 'Natural language processing has the ability to interrogate the data with natural language text or voice.']\n"
     ]
    }
   ],
   "source": [
    "from nltk import word_tokenize,sent_tokenize\n",
    "sent=\"Natural language processing (NLP) is a branch of artificial intelligence (AI) that enables computers to comprehend, generate, and manipulate human language. Natural language processing has the ability to interrogate the data with natural language text or voice.\"\n",
    "print(word_tokenize(sent))\n",
    "print(sent_tokenize(sent))\n"
   ]
  },
  {
   "cell_type": "code",
   "execution_count": 21,
   "id": "50c5db97",
   "metadata": {},
   "outputs": [
    {
     "data": {
      "text/plain": [
       "['Natural',\n",
       " 'language',\n",
       " 'processing',\n",
       " '(',\n",
       " 'NLP',\n",
       " ')',\n",
       " 'is',\n",
       " 'a',\n",
       " 'branch',\n",
       " 'of',\n",
       " 'artificial',\n",
       " 'intelligence',\n",
       " '(',\n",
       " 'AI',\n",
       " ')',\n",
       " 'that',\n",
       " 'enables',\n",
       " 'computers',\n",
       " 'to',\n",
       " 'comprehend',\n",
       " ',',\n",
       " 'generate',\n",
       " ',',\n",
       " 'and',\n",
       " 'manipulate',\n",
       " 'human',\n",
       " 'language',\n",
       " '.',\n",
       " 'Natural',\n",
       " 'language',\n",
       " 'processing',\n",
       " 'has',\n",
       " 'the',\n",
       " 'ability',\n",
       " 'to',\n",
       " 'interrogate',\n",
       " 'the',\n",
       " 'data',\n",
       " 'with',\n",
       " 'natural',\n",
       " 'language',\n",
       " 'text',\n",
       " 'or',\n",
       " 'voice',\n",
       " '.']"
      ]
     },
     "execution_count": 21,
     "metadata": {},
     "output_type": "execute_result"
    }
   ],
   "source": [
    "from nltk.tokenize import WordPunctTokenizer\n",
    "txt=\"Natural language processing (NLP) is a branch of artificial intelligence (AI) that enables computers to comprehend, generate, and manipulate human language. Natural language processing has the ability to interrogate the data with natural language text or voice.\"\n",
    "tokenizer = WordPunctTokenizer()\n",
    "tokenizer.tokenize(txt)\n"
   ]
  },
  {
   "cell_type": "code",
   "execution_count": 6,
   "id": "50b48d24",
   "metadata": {},
   "outputs": [
    {
     "name": "stderr",
     "output_type": "stream",
     "text": [
      "[nltk_data] Downloading package stopwords to\n",
      "[nltk_data]     C:\\Users\\abc\\AppData\\Roaming\\nltk_data...\n",
      "[nltk_data]   Package stopwords is already up-to-date!\n"
     ]
    },
    {
     "data": {
      "text/plain": [
       "True"
      ]
     },
     "execution_count": 6,
     "metadata": {},
     "output_type": "execute_result"
    }
   ],
   "source": [
    "#stop-words\n",
    "nltk.download('stopwords')"
   ]
  },
  {
   "cell_type": "code",
   "execution_count": 8,
   "id": "b78f0b67",
   "metadata": {},
   "outputs": [],
   "source": [
    "from nltk.corpus import stopwords\n",
    "stop_words=stopwords.words('english')"
   ]
  },
  {
   "cell_type": "code",
   "execution_count": 12,
   "id": "de279799",
   "metadata": {},
   "outputs": [
    {
     "name": "stdout",
     "output_type": "stream",
     "text": [
      "uncleaned ['Natural', 'language', 'processing', '(', 'NLP', ')', 'is', 'a', 'branch', 'of', 'artificial', 'intelligence', '(', 'AI', ')', 'that', 'enables', 'computers', 'to', 'comprehend', ',', 'generate', ',', 'and', 'manipulate', 'human', 'language', '.', 'Natural', 'language', 'processing', 'has', 'the', 'ability', 'to', 'interrogate', 'the', 'data', 'with', 'natural', 'language', 'text', 'or', 'voice', '.']\n",
      "cleaned ['Natural', 'language', 'processing', '(', 'NLP', ')', 'branch', 'artificial', 'intelligence', '(', 'AI', ')', 'enables', 'computers', 'comprehend', ',', 'generate', ',', 'manipulate', 'human', 'language', '.', 'Natural', 'language', 'processing', 'ability', 'interrogate', 'data', 'natural', 'language', 'text', 'voice', '.']\n"
     ]
    }
   ],
   "source": [
    "token=word_tokenize(sent)\n",
    "cleaned_token=[]\n",
    "for word in token:\n",
    "    if word not in stop_words:\n",
    "        cleaned_token.append(word)\n",
    "print(\"uncleaned\",token)\n",
    "print(\"cleaned\",cleaned_token)\n"
   ]
  },
  {
   "cell_type": "code",
   "execution_count": 13,
   "id": "211201e1",
   "metadata": {},
   "outputs": [
    {
     "name": "stderr",
     "output_type": "stream",
     "text": [
      "[nltk_data] Downloading package averaged_perceptron_tagger to\n",
      "[nltk_data]     C:\\Users\\abc\\AppData\\Roaming\\nltk_data...\n",
      "[nltk_data]   Unzipping taggers\\averaged_perceptron_tagger.zip.\n"
     ]
    },
    {
     "data": {
      "text/plain": [
       "True"
      ]
     },
     "execution_count": 13,
     "metadata": {},
     "output_type": "execute_result"
    }
   ],
   "source": [
    "#pos\n",
    "nltk.download(\"averaged_perceptron_tagger\")"
   ]
  },
  {
   "cell_type": "code",
   "execution_count": 23,
   "id": "34b1173a",
   "metadata": {},
   "outputs": [
    {
     "name": "stdout",
     "output_type": "stream",
     "text": [
      "Original text: from nltk import word_tokenize,sent_tokenize Natural language processing (NLP) is a branch of artificial intelligence (AI) that enables computers to comprehend, generate, and manipulate human language. Natural language processing has the ability to interrogate the data with natural language text or voice.\n",
      "After tokenization: ['from', 'nltk', 'import', 'word_tokenize', ',', 'sent_tokenize', 'Natural', 'language', 'processing', '(', 'NLP', ')', 'is', 'a', 'branch', 'of', 'artificial', 'intelligence', '(', 'AI', ')', 'that', 'enables', 'computers', 'to', 'comprehend', ',', 'generate', ',', 'and', 'manipulate', 'human', 'language', '.', 'Natural', 'language', 'processing', 'has', 'the', 'ability', 'to', 'interrogate', 'the', 'data', 'with', 'natural', 'language', 'text', 'or', 'voice', '.']\n",
      "\n",
      "After POS tagging: [('from', 'IN'), ('nltk', 'JJ'), ('import', 'NN'), ('word_tokenize', 'NN'), (',', ','), ('sent_tokenize', 'VB'), ('Natural', 'NNP'), ('language', 'NN'), ('processing', 'NN'), ('(', '('), ('NLP', 'NNP'), (')', ')'), ('is', 'VBZ'), ('a', 'DT'), ('branch', 'NN'), ('of', 'IN'), ('artificial', 'JJ'), ('intelligence', 'NN'), ('(', '('), ('AI', 'NNP'), (')', ')'), ('that', 'IN'), ('enables', 'VBZ'), ('computers', 'NNS'), ('to', 'TO'), ('comprehend', 'VB'), (',', ','), ('generate', 'NN'), (',', ','), ('and', 'CC'), ('manipulate', 'VB'), ('human', 'JJ'), ('language', 'NN'), ('.', '.'), ('Natural', 'JJ'), ('language', 'NN'), ('processing', 'NN'), ('has', 'VBZ'), ('the', 'DT'), ('ability', 'NN'), ('to', 'TO'), ('interrogate', 'VB'), ('the', 'DT'), ('data', 'NN'), ('with', 'IN'), ('natural', 'JJ'), ('language', 'NN'), ('text', 'NN'), ('or', 'CC'), ('voice', 'NN'), ('.', '.')]\n"
     ]
    }
   ],
   "source": [
    "from nltk import pos_tag, word_tokenize\n",
    "\n",
    "txt = \"from nltk import word_tokenize,sent_tokenize Natural language processing (NLP) is a branch of artificial intelligence (AI) that enables computers to comprehend, generate, and manipulate human language. Natural language processing has the ability to interrogate the data with natural language text or voice.\"\n",
    "\n",
    "print(\"Original text:\", txt)\n",
    "tokens = word_tokenize(txt)\n",
    "print(\"After tokenization:\", tokens)\n",
    "\n",
    "# Perform Part-of-Speech tagging on the tokenized words\n",
    "tokens_tag = pos_tag(tokens)\n",
    "\n",
    "print(\"\\nAfter POS tagging:\", tokens_tag)\n"
   ]
  },
  {
   "cell_type": "code",
   "execution_count": 25,
   "id": "e6f7b989",
   "metadata": {},
   "outputs": [
    {
     "name": "stdout",
     "output_type": "stream",
     "text": [
      "Word Frequencies:\n",
      "from: 1\n",
      "nltk: 1\n",
      "import: 1\n",
      "word_tokenize: 1\n",
      ",: 3\n",
      "sent_tokenize: 1\n",
      "Natural: 2\n",
      "language: 4\n",
      "processing: 2\n",
      "(: 2\n",
      "NLP: 1\n",
      "): 2\n",
      "is: 1\n",
      "a: 1\n",
      "branch: 1\n",
      "of: 1\n",
      "artificial: 1\n",
      "intelligence: 1\n",
      "AI: 1\n",
      "that: 1\n",
      "enables: 1\n",
      "computers: 1\n",
      "to: 2\n",
      "comprehend: 1\n",
      "generate: 1\n",
      "and: 1\n",
      "manipulate: 1\n",
      "human: 1\n",
      ".: 2\n",
      "has: 1\n",
      "the: 2\n",
      "ability: 1\n",
      "interrogate: 1\n",
      "data: 1\n",
      "with: 1\n",
      "natural: 1\n",
      "text: 1\n",
      "or: 1\n",
      "voice: 1\n"
     ]
    }
   ],
   "source": [
    "#count word frequency\n",
    "from collections import Counter\n",
    "tokens = word_tokenize(txt)\n",
    "word_freq = Counter(tokens)\n",
    "print(\"Word Frequencies:\")\n",
    "for word, freq in word_freq.items():\n",
    "    print(f\"{word}: {freq}\")\n"
   ]
  },
  {
   "cell_type": "code",
   "execution_count": null,
   "id": "5fa69e69",
   "metadata": {},
   "outputs": [],
   "source": []
  }
 ],
 "metadata": {
  "kernelspec": {
   "display_name": "Python 3 (ipykernel)",
   "language": "python",
   "name": "python3"
  },
  "language_info": {
   "codemirror_mode": {
    "name": "ipython",
    "version": 3
   },
   "file_extension": ".py",
   "mimetype": "text/x-python",
   "name": "python",
   "nbconvert_exporter": "python",
   "pygments_lexer": "ipython3",
   "version": "3.11.5"
  }
 },
 "nbformat": 4,
 "nbformat_minor": 5
}
