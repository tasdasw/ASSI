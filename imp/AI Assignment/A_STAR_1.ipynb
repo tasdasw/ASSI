{
  "nbformat": 4,
  "nbformat_minor": 0,
  "metadata": {
    "colab": {
      "provenance": []
    },
    "kernelspec": {
      "name": "python3",
      "display_name": "Python 3"
    },
    "language_info": {
      "name": "python"
    }
  },
  "cells": [
    {
      "cell_type": "markdown",
      "source": [
        "# Prepared by Dr. Sheetal A. Takale"
      ],
      "metadata": {
        "id": "jRzl56w5S5gs"
      }
    },
    {
      "cell_type": "markdown",
      "source": [
        "# A* algorithm for finding the travelling path from Source to Destination"
      ],
      "metadata": {
        "id": "ETC2ENZzG4Fk"
      }
    },
    {
      "cell_type": "markdown",
      "source": [
        "Accept Graph as input\n",
        "1. Enter number of cities\n",
        "2. For every city input\n",
        "  1. H values\n",
        "  2. Input Number of connected locations\n",
        "  3. For every connected location input city name and g() values\n",
        "3. Store H value for every city in H dictionary\n",
        "4. Store adjacent verties in adjacency_lst dictionary"
      ],
      "metadata": {
        "id": "1e3lE3K0HPAt"
      }
    },
    {
      "cell_type": "code",
      "source": [
        "H={}\n",
        "adjac_lis={}\n",
        "lst=[]\n",
        "num = int(input (\"NUMBER OF LOCATIONS :\"))\n",
        "for x in range(num):\n",
        "  vertex= input(\"City: \")\n",
        "  print(\"Enter H value for vertex\",vertex)\n",
        "  h=int(input())\n",
        "  H[vertex]=h\n",
        "  num_c = int(input (\"NUMBER OF CONNECTED LOCATIONS :\"))\n",
        "  for y in range(num_c):\n",
        "    ver=input(\"Adjacent city: \")\n",
        "    dis=int(input(\"Distance : \"))\n",
        "    lst.append((ver,dis))\n",
        "  if(len(lst)>0):\n",
        "    adjac_lis[vertex]=lst\n",
        "  lst=[]\n",
        "\n",
        "print(adjac_lis)\n",
        "print(H)\n"
      ],
      "metadata": {
        "colab": {
          "base_uri": "https://localhost:8080/"
        },
        "id": "1CQKAxny4nsO",
        "outputId": "e7f3bf48-a521-4f3d-ad8b-eef011d9d217"
      },
      "execution_count": null,
      "outputs": [
        {
          "output_type": "stream",
          "name": "stdout",
          "text": [
            "NUMBER OF LOCATIONS :7\n",
            "City: S\n",
            "Enter H value for vertex S\n",
            "8\n",
            "NUMBER OF CONNECTED LOCATIONS :3\n",
            "Adjacent city: A\n",
            "Distance : 1\n",
            "Adjacent city: B\n",
            "Distance : 5\n",
            "Adjacent city: C\n",
            "Distance : 8\n",
            "City: A\n",
            "Enter H value for vertex A\n",
            "8\n",
            "NUMBER OF CONNECTED LOCATIONS :3\n",
            "Adjacent city: D\n",
            "Distance : 3\n",
            "Adjacent city: E\n",
            "Distance : 7\n",
            "Adjacent city: G\n",
            "Distance : 9\n",
            "City: B\n",
            "Enter H value for vertex B\n",
            "4\n",
            "NUMBER OF CONNECTED LOCATIONS :1\n",
            "Adjacent city: G\n",
            "Distance : 4\n",
            "City: C\n",
            "Enter H value for vertex C\n",
            "3\n",
            "NUMBER OF CONNECTED LOCATIONS :1\n",
            "Adjacent city: G\n",
            "Distance : 5\n",
            "City: D\n",
            "Enter H value for vertex D\n",
            "9999\n",
            "NUMBER OF CONNECTED LOCATIONS :0\n",
            "City: E\n",
            "Enter H value for vertex E\n",
            "9999\n",
            "NUMBER OF CONNECTED LOCATIONS :0\n",
            "City: G\n",
            "Enter H value for vertex G\n",
            "0\n",
            "NUMBER OF CONNECTED LOCATIONS :0\n",
            "{'S': [('A', 1), ('B', 5), ('C', 8)], 'A': [('D', 3), ('E', 7), ('G', 9)], 'B': [('G', 4)], 'C': [('G', 5)]}\n",
            "{'S': 8, 'A': 8, 'B': 4, 'C': 3, 'D': 9999, 'E': 9999, 'G': 0}\n"
          ]
        }
      ]
    },
    {
      "cell_type": "markdown",
      "source": [
        "Find adjacent nodes for the given node using adjacency_lst"
      ],
      "metadata": {
        "id": "Uv_5GEzJH2Yj"
      }
    },
    {
      "cell_type": "code",
      "source": [
        "def get_neighbors(v):\n",
        "       return adjac_lis[v]"
      ],
      "metadata": {
        "id": "USA2Osp7CHjL"
      },
      "execution_count": null,
      "outputs": []
    },
    {
      "cell_type": "code",
      "source": [
        "get_neighbors(\"B\")"
      ],
      "metadata": {
        "colab": {
          "base_uri": "https://localhost:8080/"
        },
        "id": "1jILaC1fh9qF",
        "outputId": "5a340a8a-18b3-48c0-f297-98782167c716"
      },
      "execution_count": null,
      "outputs": [
        {
          "output_type": "execute_result",
          "data": {
            "text/plain": [
              "[('G', 4)]"
            ]
          },
          "metadata": {},
          "execution_count": 6
        }
      ]
    },
    {
      "cell_type": "markdown",
      "source": [
        "Heuristic of node n is returned by the function"
      ],
      "metadata": {
        "id": "lsZAOCOWCNpD"
      }
    },
    {
      "cell_type": "code",
      "source": [
        "def heuristic(n):\n",
        "        return H[n]"
      ],
      "metadata": {
        "id": "0sUYS7b7CLzD"
      },
      "execution_count": null,
      "outputs": []
    },
    {
      "cell_type": "markdown",
      "source": [
        "a_star function computes f(n) as g(n)+h(n) and selects the node with least f(n) value for next visit.\n",
        "g(n) is computed using weigt of current node and pre_dis value for the previous node."
      ],
      "metadata": {
        "id": "rXzRCNoDINrr"
      }
    },
    {
      "cell_type": "markdown",
      "source": [
        "Accept start city and Goal city\n",
        "Call the a_star function with start and goal as parameters"
      ],
      "metadata": {
        "id": "A6wUi582IpGz"
      }
    },
    {
      "cell_type": "code",
      "source": [
        "def a_star_algorithm(start, stop):\n",
        "        # open_lst - list of nodes which have been visited, but who's\n",
        "        # neighbours haven't all been always inspected, It starts off with the start node\n",
        "        # And closed_lst is a list of nodes which have been visited and who's neighbors have been always inspected\n",
        "        open_lst = set([start])\n",
        "        closed_lst = set([])\n",
        "        #print(\"start of prog\")\n",
        "       # print(open_lst)\n",
        "\n",
        "       #pre_dis contains g(n) for all the nodes\n",
        "        G = {}\n",
        "        G[start] = 0\n",
        "\n",
        "\n",
        "        # par contains an parent or previous node which helps to reconstruct the path\n",
        "        par = {}\n",
        "        par[start] = start\n",
        "\n",
        "        while len(open_lst) > 0:\n",
        "           # print(\"Open List:\",open_lst)\n",
        "\n",
        "            n = None\n",
        "\n",
        "            # it will find a node with the lowest value of f() -\n",
        "            for v in open_lst:\n",
        "               # print(\"Pre_dis_values\")\n",
        "                #print(pre_dis)\n",
        "                if n == None or G[v] + heuristic(v) < G[n] + heuristic(n):\n",
        "                    n = v;\n",
        "\n",
        "            if n == None:\n",
        "                print('Path does not exist!')\n",
        "                return None\n",
        "\n",
        "            # if the current node is the stop\n",
        "            # then we start again from start\n",
        "            if n == stop:\n",
        "                path = []\n",
        "\n",
        "                while par[n] != n:\n",
        "                    path.append(n)\n",
        "                    n = par[n]\n",
        "\n",
        "                path.append(start)\n",
        "\n",
        "                path.reverse()\n",
        "\n",
        "                print('Path found: {}'.format(path))\n",
        "                return path\n",
        "\n",
        "            # for all the neighbors of the current node do\n",
        "            for (m, dis) in get_neighbors(n):\n",
        "              # if the current node is not present in both open_lst and closed_lst\n",
        "                # add it to open_lst and note n as it's parent/previous node\n",
        "\n",
        "                if m not in open_lst and m not in closed_lst:\n",
        "                    open_lst.add(m)\n",
        "                    par[m] = n\n",
        "                    G[m] = G[n] + dis\n",
        "                #If the neighbor(m) has a lower g value than the current node(n) and is in the closed list\n",
        "                # update parent data and pre_dis data\n",
        "\n",
        "                else:\n",
        "                    if G[m] > G[n] + dis:\n",
        "                        G[m] = G[n] + dis\n",
        "                        par[m] = n\n",
        "               # if the node was in the closed_lst, move it to open_lst\n",
        "                        if m in closed_lst:\n",
        "                            closed_lst.remove(m)\n",
        "                            open_lst.add(m)\n",
        "\n",
        "            # remove n from the open_lst, and add it to closed_lst\n",
        "            # because all of his neighbors were inspected\n",
        "            print(G)\n",
        "            open_lst.remove(n)\n",
        "            closed_lst.add(n)\n",
        "            #print(\"Parent nodes for every node:\",par)\n",
        "\n",
        "\n",
        "        print('Path does not exist!')\n",
        "        return None"
      ],
      "metadata": {
        "id": "0IqVUPs5VghQ"
      },
      "execution_count": null,
      "outputs": []
    },
    {
      "cell_type": "code",
      "source": [
        "start=input(\"Enter Start City\")\n",
        "goal= input(\"Enter Goal City\")\n",
        "a_star_algorithm(start, goal)"
      ],
      "metadata": {
        "colab": {
          "base_uri": "https://localhost:8080/"
        },
        "id": "-RrG4nguAGj-",
        "outputId": "f64b47dc-34ea-4854-fe48-f49e3567f6ab"
      },
      "execution_count": null,
      "outputs": [
        {
          "output_type": "stream",
          "name": "stdout",
          "text": [
            "Enter Start CityS\n",
            "Enter Goal CityG\n",
            "{'S': 0, 'A': 1, 'B': 5, 'C': 8}\n",
            "{'S': 0, 'A': 1, 'B': 5, 'C': 8, 'G': 9}\n",
            "Path found: ['S', 'B', 'G']\n"
          ]
        },
        {
          "output_type": "execute_result",
          "data": {
            "text/plain": [
              "['S', 'B', 'G']"
            ]
          },
          "metadata": {},
          "execution_count": 9
        }
      ]
    }
  ]
}