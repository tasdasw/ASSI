{
  "nbformat": 4,
  "nbformat_minor": 0,
  "metadata": {
    "colab": {
      "provenance": []
    },
    "kernelspec": {
      "name": "python3",
      "display_name": "Python 3"
    },
    "language_info": {
      "name": "python"
    }
  },
  "cells": [
    {
      "cell_type": "markdown",
      "source": [
        "# **Tic_Tac_Toe Game Simulation in Python**"
      ],
      "metadata": {
        "id": "C3qGKn90ueAe"
      }
    },
    {
      "cell_type": "code",
      "execution_count": null,
      "metadata": {
        "id": "F4JGEkMxZO5e"
      },
      "outputs": [],
      "source": [
        "def board():\n",
        "  print(\"\\n\\n\\tTic Tac Toe\\n\\n\")\n",
        "  print(\"Player 1 (X)  -  Player 2 (O)\\n\\n\\n\")\n",
        "  print(square[0],\" \", square[1],\" \", square[2],\"\\n\")\n",
        "  print(square[3],\" \", square[4],\" \", square[5],\"\\n\");\n",
        "  print(square[6],\" \", square[7],\" \", square[8],\"\\n\");"
      ]
    },
    {
      "cell_type": "code",
      "source": [
        "def checkwin():\n",
        "    res=0\n",
        "    if ((square[0] == square[1]) & (square[1] == square[2])):\n",
        "      res=1\n",
        "\n",
        "    elif ((square[3] == square[4]) & (square[4] == square[5])):\n",
        "        res=1\n",
        "\n",
        "    elif ((square[6] == square[7]) & (square[7] == square[8])):\n",
        "        res=1\n",
        "\n",
        "    elif ((square[0] == square[3]) & (square[3] == square[6])):\n",
        "        res=1\n",
        "\n",
        "    elif ((square[1] == square[4]) & (square[5] == square[7])):\n",
        "        res=1\n",
        "\n",
        "    elif ((square[2] == square[7]) & (square[7] == square[8])):\n",
        "        res=1\n",
        "\n",
        "    elif ((square[0] == square[4]) & (square[4] == square[8])):\n",
        "        res=1\n",
        "\n",
        "    elif ((square[2] == square[4]) & (square[4] == square[6])):\n",
        "        res=1\n",
        "\n",
        "    elif ((square[0] != '0') & (square[1] != '1') & (square[2] != '2') & (square[3] != '3') & (square[4] != '4') & (square[5] != '5') & (square[6]!= '6') & (square[7] != '7') & (square[8] != '8')):\n",
        "      res=0\n",
        "    else:\n",
        "        res=-1\n",
        "    return res\n"
      ],
      "metadata": {
        "id": "DqIorDTkcVBB"
      },
      "execution_count": null,
      "outputs": []
    },
    {
      "cell_type": "code",
      "source": [
        "square= ['0', '1', '2', '3', '4', '5', '6', '7', '8']\n",
        "player = 1\n",
        "i=0\n",
        "choice=0\n",
        "mark=\"x\"\n",
        "flag=0\n",
        "board();\n",
        "while (flag==0):\n",
        "\n",
        "    print(\"Player Number:\",player )\n",
        "    choice= int(input(\"Enter a number:  \"))\n",
        "    print()\n",
        "    if(player==1):\n",
        "      mark=\"x\"\n",
        "    else:\n",
        "      mark=\"o\"\n",
        "    if ((choice == 0) & (square[0] == '0')):\n",
        "        square[0] = mark\n",
        "\n",
        "    elif ((choice == 1) & (square[1] == '1')):\n",
        "        square[1] = mark\n",
        "\n",
        "    elif ((choice == 2) & (square[2] == '2')):\n",
        "        square[2] = mark\n",
        "\n",
        "    elif ((choice == 3) & (square[3] == '3')):\n",
        "        square[3] = mark\n",
        "\n",
        "    elif ((choice == 4) & (square[4] == '4')):\n",
        "        square[4] = mark\n",
        "\n",
        "    elif ((choice == 5) & (square[5] == '5')):\n",
        "        square[5] = mark\n",
        "\n",
        "    elif ((choice == 6) & (square[6] == '6')):\n",
        "        square[6] = mark\n",
        "\n",
        "    elif((choice == 7 ) & (square[7] == '7')):\n",
        "        square[7] = mark\n",
        "\n",
        "    elif((choice == 8) & (square[8] == '8')):\n",
        "        square[8] = mark\n",
        "\n",
        "    elif(choice>8 or choice<0):\n",
        "        print(\"Invalid move \")\n",
        "    board();\n",
        "    i = checkwin();\n",
        "    print(i)\n",
        "    if (i == 1):\n",
        "      flag=1\n",
        "      break\n",
        "    elif(i==0):\n",
        "      flag=1\n",
        "      break\n",
        "    elif(i==-1):\n",
        "      flag=0\n",
        "    if(player==2):\n",
        "      player=1\n",
        "    else:\n",
        "      player=2\n",
        "\n",
        "\n",
        "\n",
        "board();\n",
        "\n",
        "if (i == 1):\n",
        "    print(\"Player\",player, \"win \");\n",
        "elif(i==0):\n",
        "    print(\"Game draw\");"
      ],
      "metadata": {
        "id": "HrefkWsIguTT"
      },
      "execution_count": null,
      "outputs": []
    }
  ]
}